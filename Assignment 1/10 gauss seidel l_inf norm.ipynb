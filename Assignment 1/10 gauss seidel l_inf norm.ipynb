{
 "cells": [
  {
   "cell_type": "code",
   "execution_count": 1,
   "metadata": {},
   "outputs": [
    {
     "name": "stdout",
     "output_type": "stream",
     "text": [
      "Iteration 1: [ 0.33333333 -0.16666667  0.5       ]\n",
      "Iteration 2: [ 0.11111111 -0.22222222  0.61904762]\n",
      "Iteration 3: [ 0.05291005 -0.23280423  0.64852608]\n",
      "Iteration 4: [ 0.03955656 -0.23595364  0.65559875]\n",
      "Iteration 5: [ 0.0361492  -0.23660752  0.65733928]\n",
      "Final solution to A1x = b1: [ 0.0361492  -0.23660752  0.65733928]\n",
      "Iteration 1: [0.9   0.79  0.758]\n",
      "Iteration 2: [0.979  0.9495 0.7899]\n",
      "Iteration 3: [0.99495  0.957475 0.791495]\n",
      "Final solution to A2x = b2: [0.99495  0.957475 0.791495]\n",
      "Iteration 1: [ 0.6    2.2   -0.275 -2.255]\n",
      "Iteration 2: [-0.5       2.64     -0.336875 -2.267375]\n",
      "Iteration 3: [-0.72        2.72525    -0.29579688 -2.25915938]\n",
      "Iteration 4: [-0.762625    2.76299375 -0.27589805 -2.25517961]\n",
      "Iteration 5: [-0.78149687  2.78038922 -0.26670284 -2.25334057]\n",
      "Iteration 6: [-0.79019461  2.78841617 -0.26245949 -2.2524919 ]\n",
      "Iteration 7: [-0.79420808  2.79212025 -0.26050136 -2.25210027]\n",
      "Iteration 8: [-0.79606012  2.79382952 -0.25959778 -2.25191956]\n",
      "Final solution to A3x = b3: [-0.79606012  2.79382952 -0.25959778 -2.25191956]\n",
      "Iteration 1: [ 1.5     -2.5      1.1      1.525    2.64375]\n",
      "Iteration 2: [ 1.1890625  -1.52135417  1.86239583  1.88252604  2.25564453]\n",
      "Iteration 3: [ 0.85082845 -1.03530219  1.89436317  1.92747236  2.0093738 ]\n",
      "Iteration 4: [ 0.7828913  -0.98701859  1.87161643  1.91687229  1.98219533]\n",
      "Iteration 5: [ 0.78330171 -0.998271    1.86614704  1.91279444  1.98747365]\n",
      "Iteration 6: [ 0.78616258 -1.00240703  1.86606999  1.91245638  1.98960692]\n",
      "Final solution to A4x = b4: [ 0.78616258 -1.00240703  1.86606999  1.91245638  1.98960692]\n"
     ]
    }
   ],
   "source": [
    "import numpy as np\n",
    "\n",
    "def gauss_seidel(A, b, max_iterations=100, tol=0.001):\n",
    "    n = len(A)\n",
    "    x = np.zeros(n)\n",
    "    for iteration in range(1, max_iterations + 1):\n",
    "        x_new = np.copy(x)\n",
    "        for i in range(n):\n",
    "            x_new[i] = (b[i] - np.dot(A[i, :i], x_new[:i]) - np.dot(A[i, i+1:], x[i+1:])) / A[i, i]\n",
    "        if np.max(np.abs(x_new - x)) < tol:\n",
    "            break\n",
    "        x = np.copy(x_new)\n",
    "        print(f\"Iteration {iteration}: {x}\")\n",
    "    return x\n",
    "\n",
    "# Define the matrices A and vectors b for the four systems of equations\n",
    "A1 = np.array([[3, -1, 1], [3, 6, 2], [3, 3, 7]])\n",
    "b1 = np.array([1, 0, 4])\n",
    "\n",
    "A2 = np.array([[10, -1, 0], [-1, 10, -2], [0, -2, 10]])\n",
    "b2 = np.array([9, 7, 6])\n",
    "\n",
    "A3 = np.array([[10, 5, 0, 0], [5, 10, -4, 0], [0, -4, 8, -1], [0, 0, -1, 5]])\n",
    "b3 = np.array([6, 25, -11, -11])\n",
    "\n",
    "A4 = np.array([[4, 1, 1, 0, 1], [-1, -3, 1, 1, 0], [2, 1, 5, -1, -1], [-1, -1, -1, 4, 0], [0, 2, -1, 1, 4]])\n",
    "b4 = np.array([6, 6, 6, 6, 6])\n",
    "\n",
    "# Solve the systems using the Gauss-Seidel method and print the improved solution after each iteration\n",
    "x1 = gauss_seidel(A1, b1)\n",
    "print(\"Final solution to A1x = b1:\", x1)\n",
    "\n",
    "x2 = gauss_seidel(A2, b2)\n",
    "print(\"Final solution to A2x = b2:\", x2)\n",
    "\n",
    "x3 = gauss_seidel(A3, b3)\n",
    "print(\"Final solution to A3x = b3:\", x3)\n",
    "\n",
    "x4 = gauss_seidel(A4, b4)\n",
    "print(\"Final solution to A4x = b4:\", x4)\n"
   ]
  },
  {
   "cell_type": "code",
   "execution_count": null,
   "metadata": {},
   "outputs": [],
   "source": []
  }
 ],
 "metadata": {
  "kernelspec": {
   "display_name": "Python 3",
   "language": "python",
   "name": "python3"
  },
  "language_info": {
   "codemirror_mode": {
    "name": "ipython",
    "version": 3
   },
   "file_extension": ".py",
   "mimetype": "text/x-python",
   "name": "python",
   "nbconvert_exporter": "python",
   "pygments_lexer": "ipython3",
   "version": "3.8.3"
  }
 },
 "nbformat": 4,
 "nbformat_minor": 4
}

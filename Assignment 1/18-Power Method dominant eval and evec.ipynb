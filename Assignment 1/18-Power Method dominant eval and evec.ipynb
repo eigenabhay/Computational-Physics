{
 "cells": [
  {
   "cell_type": "code",
   "execution_count": 9,
   "metadata": {},
   "outputs": [
    {
     "name": "stdout",
     "output_type": "stream",
     "text": [
      "Dominant Eigenvalue: 3.414\n",
      "Dominant Eigenvector:\n",
      "[ 0.50000006 -0.70710669  0.50000006]\n",
      "\n",
      "\n",
      "Eigenvalues using linalg.eig:\n",
      "3.414\n",
      "2.000\n",
      "0.586\n",
      "\n",
      "Eigenvectors using linalg.eig:\n",
      "Lambda = 3.414: [-0.5         0.70710678 -0.5       ]\n",
      "Lambda = 2.000: [-7.07106781e-01  4.05405432e-16  7.07106781e-01]\n",
      "Lambda = 0.586: [0.5        0.70710678 0.5       ]\n"
     ]
    }
   ],
   "source": [
    "import numpy as np\n",
    "\n",
    "# Define the matrix A\n",
    "A = np.array([[2, -1, 0],\n",
    "              [-1, 2, -1],\n",
    "              [0, -1, 2]])\n",
    "\n",
    "# Set the initial guess for the eigenvector\n",
    "x = np.array([1, 1, 1])\n",
    "\n",
    "# Set the tolerance for convergence\n",
    "tol = 1e-6\n",
    "\n",
    "# Initialize the error to a large value\n",
    "err = 1\n",
    "\n",
    "# Perform the Power Method iteration\n",
    "while err > tol:\n",
    "    # Calculate the next iteration\n",
    "    x_new = np.dot(A, x)\n",
    "    # Normalize the eigenvector\n",
    "    x_new_norm = np.linalg.norm(x_new)\n",
    "    x_new = x_new / x_new_norm\n",
    "    # Calculate the error\n",
    "    err = np.linalg.norm(x_new - x)\n",
    "    # Update the eigenvector\n",
    "    x = x_new\n",
    "\n",
    "# Calculate the dominant eigenvalue\n",
    "eigenvalue = np.dot(np.dot(A, x), x) / np.dot(x, x)\n",
    "\n",
    "# Print the dominant eigenvalue and eigenvector\n",
    "print(f\"Dominant Eigenvalue: {eigenvalue:.3f}\")\n",
    "print(\"Dominant Eigenvector:\")\n",
    "print(x)\n",
    "print()\n",
    "print()\n",
    "\n",
    "\n",
    "\n",
    "#checking\n",
    "\n",
    "eigenvalues, eigenvectors = np.linalg.eig(A)\n",
    "\n",
    "# Print eigenvalues\n",
    "print(\"Eigenvalues using linalg.eig:\")\n",
    "for eigenvalue in eigenvalues:\n",
    "    print(f\"{eigenvalue:.3f}\")\n",
    "\n",
    "# Print eigenvectors\n",
    "print(\"\\nEigenvectors using linalg.eig:\")\n",
    "for i, eigenvector in enumerate(eigenvectors.T):\n",
    "    print(f\"Lambda = {eigenvalues[i]:.3f}: {eigenvector}\")"
   ]
  },
  {
   "cell_type": "code",
   "execution_count": null,
   "metadata": {},
   "outputs": [],
   "source": []
  }
 ],
 "metadata": {
  "kernelspec": {
   "display_name": "Python 3",
   "language": "python",
   "name": "python3"
  },
  "language_info": {
   "codemirror_mode": {
    "name": "ipython",
    "version": 3
   },
   "file_extension": ".py",
   "mimetype": "text/x-python",
   "name": "python",
   "nbconvert_exporter": "python",
   "pygments_lexer": "ipython3",
   "version": "3.8.3"
  }
 },
 "nbformat": 4,
 "nbformat_minor": 4
}

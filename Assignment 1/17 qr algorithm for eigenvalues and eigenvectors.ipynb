{
 "cells": [
  {
   "cell_type": "code",
   "execution_count": 16,
   "metadata": {},
   "outputs": [
    {
     "name": "stdout",
     "output_type": "stream",
     "text": [
      "Eigenvalues using QR algorithm:\n",
      "[4. 9.]\n",
      "\n",
      "Eigenvalues using numpy.linalg.eigh:\n",
      "[4. 9.]\n",
      "[[-0.44722292  0.89442253]\n",
      " [ 0.89442253  0.44722292]]\n"
     ]
    }
   ],
   "source": [
    "import numpy as np\n",
    "\n",
    "# Define the matrix A\n",
    "A = np.array([[5, -2],\n",
    "              [-2, 8]])\n",
    "\n",
    "# Initialize variables\n",
    "n = A.shape[0]\n",
    "V = np.eye(n)\n",
    "tolerance = 1e-4\n",
    "\n",
    "# QR algorithm iterations\n",
    "while np.sum(np.abs(np.tril(A, -1))) > tolerance:\n",
    "    Q, R = np.linalg.qr(A)\n",
    "    A = R @ Q\n",
    "    V = V @ Q\n",
    "\n",
    "# Extract eigenvalues from the diagonal of A\n",
    "eigenvalues = np.diag(A)\n",
    "\n",
    "# Calculate eigenvalues using numpy.linalg.eigh\n",
    "eigenvalues_eigh, _ = np.linalg.eigh(A)\n",
    "\n",
    "\n",
    "# Print eigenvalues\n",
    "print(\"Eigenvalues using QR algorithm:\")\n",
    "print(np.sort(eigenvalues))\n",
    "\n",
    "print(\"\\nEigenvalues using numpy.linalg.eigh:\")\n",
    "print(np.sort(eigenvalues_eigh))\n",
    "\n",
    "print(V)"
   ]
  },
  {
   "cell_type": "markdown",
   "metadata": {},
   "source": [
    "To check eigenvectors"
   ]
  },
  {
   "cell_type": "code",
   "execution_count": 18,
   "metadata": {},
   "outputs": [
    {
     "name": "stdout",
     "output_type": "stream",
     "text": [
      "Eigenvectors:\n",
      "Lambda = 4.000: [-0.89442719 -0.4472136 ]\n",
      "Lambda = 9.000: [ 0.4472136  -0.89442719]\n"
     ]
    }
   ],
   "source": [
    "import numpy as np\n",
    "\n",
    "# Define the matrix A\n",
    "A = np.array([[5, -2],\n",
    "              [-2, 8]])\n",
    "\n",
    "# Calculate eigenvalues and eigenvectors\n",
    "eigenvalues, eigenvectors = np.linalg.eig(A)\n",
    "\n",
    "# Sort eigenvalues and corresponding eigenvectors\n",
    "idx = eigenvalues.argsort()\n",
    "eigenvalues = eigenvalues[idx]\n",
    "eigenvectors = eigenvectors[:, idx]\n",
    "\n",
    "# Print eigenvectors\n",
    "print(\"Eigenvectors:\")\n",
    "for i in range(len(eigenvalues)):\n",
    "    print(f\"Lambda = {eigenvalues[i]:.3f}: {eigenvectors[:, i]}\")\n"
   ]
  },
  {
   "cell_type": "code",
   "execution_count": null,
   "metadata": {},
   "outputs": [],
   "source": []
  }
 ],
 "metadata": {
  "kernelspec": {
   "display_name": "Python 3",
   "language": "python",
   "name": "python3"
  },
  "language_info": {
   "codemirror_mode": {
    "name": "ipython",
    "version": 3
   },
   "file_extension": ".py",
   "mimetype": "text/x-python",
   "name": "python",
   "nbconvert_exporter": "python",
   "pygments_lexer": "ipython3",
   "version": "3.8.3"
  }
 },
 "nbformat": 4,
 "nbformat_minor": 4
}

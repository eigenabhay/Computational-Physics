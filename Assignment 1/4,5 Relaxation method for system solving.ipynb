{
 "cells": [
  {
   "cell_type": "code",
   "execution_count": 3,
   "metadata": {},
   "outputs": [
    {
     "name": "stdout",
     "output_type": "stream",
     "text": [
      "Iteration 1: [ 0.43333333 -0.28166667  0.65835714]\n",
      "Iteration 2: [-0.10401032 -0.13318139  0.67749966]\n",
      "Final solution to A1x = b1: [-0.10401032 -0.13318139  0.67749966]\n",
      "Iteration 1: [1.17     1.0621   1.056146]\n",
      "Iteration 2: [0.957073   0.99038745 0.72065694]\n",
      "Final solution to A2x = b2: [0.957073   0.99038745 0.72065694]\n",
      "Iteration 1: [ 0.78      2.743    -0.00455  -2.861183]\n",
      "Iteration 2: [-1.23695     3.2287515  -0.15238876 -2.04126618]\n",
      "Final solution to A3x = b3: [-1.23695     3.2287515  -0.15238876 -2.04126618]\n",
      "Iteration 1: [ 1.95       -3.445       1.4417      1.9326775   4.02968231]\n",
      "Iteration 2: [ 0.70642575 -0.41038757  2.41706293  2.25195461  1.06150743]\n",
      "Final solution to A4x = b4: [ 0.70642575 -0.41038757  2.41706293  2.25195461  1.06150743]\n"
     ]
    }
   ],
   "source": [
    "import numpy as np\n",
    "\n",
    "def relaxation(A, b, omega, max_iterations=2, tol=1e-6):\n",
    "    n = len(A)\n",
    "    x = np.zeros(n)\n",
    "    for iteration in range(1, max_iterations + 1):\n",
    "        x_new = np.copy(x)\n",
    "        for i in range(n):\n",
    "            x_new[i] = (1 - omega) * x[i] + (omega / A[i, i]) * (b[i] - np.dot(A[i, :i], x_new[:i]) - np.dot(A[i, i+1:], x[i+1:]))\n",
    "        if np.linalg.norm(x_new - x) < tol:\n",
    "            break\n",
    "        x = np.copy(x_new)\n",
    "        print(f\"Iteration {iteration}: {x}\")\n",
    "    return x\n",
    "\n",
    "# Define the relaxation factor\n",
    "omega = 1.3\n",
    "\n",
    "# Define the matrices A and vectors b for the four systems of equations\n",
    "A1 = np.array([[3, -1, 1], [3, 6, 2], [3, 3, 7]])\n",
    "b1 = np.array([1, 0, 4])\n",
    "\n",
    "A2 = np.array([[10, -1, 0], [-1, 10, -2], [0, -2, 10]])\n",
    "b2 = np.array([9, 7, 6])\n",
    "\n",
    "A3 = np.array([[10, 5, 0, 0], [5, 10, -4, 0], [0, -4, 8, -1], [0, 0, -1, 5]])\n",
    "b3 = np.array([6, 25, -11, -11])\n",
    "\n",
    "A4 = np.array([[4, 1, 1, 0, 1], [-1, -3, 1, 1, 0], [2, 1, 5, -1, -1], [-1, -1, -1, 4, 0], [0, 2, -1, 1, 4]])\n",
    "b4 = np.array([6, 6, 6, 6, 6])\n",
    "\n",
    "# Solve the systems using the relaxation method and print the improved solution after each iteration\n",
    "x1 = relaxation(A1, b1, omega)\n",
    "print(\"Final solution to A1x = b1:\", x1)\n",
    "\n",
    "x2 = relaxation(A2, b2, omega)\n",
    "print(\"Final solution to A2x = b2:\", x2)\n",
    "\n",
    "x3 = relaxation(A3, b3, omega)\n",
    "print(\"Final solution to A3x = b3:\", x3)\n",
    "\n",
    "x4 = relaxation(A4, b4, omega)\n",
    "print(\"Final solution to A4x = b4:\", x4)\n"
   ]
  },
  {
   "cell_type": "code",
   "execution_count": null,
   "metadata": {},
   "outputs": [],
   "source": []
  }
 ],
 "metadata": {
  "kernelspec": {
   "display_name": "Python 3",
   "language": "python",
   "name": "python3"
  },
  "language_info": {
   "codemirror_mode": {
    "name": "ipython",
    "version": 3
   },
   "file_extension": ".py",
   "mimetype": "text/x-python",
   "name": "python",
   "nbconvert_exporter": "python",
   "pygments_lexer": "ipython3",
   "version": "3.8.3"
  }
 },
 "nbformat": 4,
 "nbformat_minor": 4
}

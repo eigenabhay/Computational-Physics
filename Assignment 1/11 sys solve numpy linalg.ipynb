{
 "cells": [
  {
   "cell_type": "code",
   "execution_count": 1,
   "metadata": {},
   "outputs": [
    {
     "name": "stdout",
     "output_type": "stream",
     "text": [
      "Solution to the first system:\n",
      "[ 0.03508772 -0.23684211  0.65789474]\n",
      "\n",
      "Solution to the second system:\n",
      "[0.99578947 0.95789474 0.79157895]\n",
      "\n",
      "Solution to the third system:\n",
      "[-0.79764706  2.79529412 -0.25882353 -2.25176471]\n",
      "\n",
      "Solution to the fourth system:\n",
      "[ 0.78663239 -1.00257069  1.86632391  1.9125964   1.98971722]\n"
     ]
    }
   ],
   "source": [
    "import numpy as np\n",
    "\n",
    "# Define the coefficient matrices and the constant vectors for each system\n",
    "A1 = np.array([[3, -1, 1], [3, 6, 2], [3, 3, 7]])\n",
    "b1 = np.array([1, 0, 4])\n",
    "\n",
    "A2 = np.array([[10, -1, 0], [-1, 10, -2], [0, -2, 10]])\n",
    "b2 = np.array([9, 7, 6])\n",
    "\n",
    "A3 = np.array([[10, 5, 0, 0], [5, 10, -4, 0], [0, -4, 8, -1], [0, 0, -1, 5]])\n",
    "b3 = np.array([6, 25, -11, -11])\n",
    "\n",
    "A4 = np.array([[4, 1, 1, 0, 1], [-1, -3, 1, 1, 0], [2, 1, 5, -1, -1], [-1, -1, -1, 4, 0], [0, 2, -1, 1, 4]])\n",
    "b4 = np.array([6, 6, 6, 6, 6])\n",
    "\n",
    "# Solve each system of equations\n",
    "x1 = np.linalg.solve(A1, b1)\n",
    "x2 = np.linalg.solve(A2, b2)\n",
    "x3 = np.linalg.solve(A3, b3)\n",
    "x4 = np.linalg.solve(A4, b4)\n",
    "\n",
    "print(\"Solution to the first system:\")\n",
    "print(x1)\n",
    "print(\"\\nSolution to the second system:\")\n",
    "print(x2)\n",
    "print(\"\\nSolution to the third system:\")\n",
    "print(x3)\n",
    "print(\"\\nSolution to the fourth system:\")\n",
    "print(x4)\n"
   ]
  },
  {
   "cell_type": "code",
   "execution_count": null,
   "metadata": {},
   "outputs": [],
   "source": []
  }
 ],
 "metadata": {
  "kernelspec": {
   "display_name": "Python 3",
   "language": "python",
   "name": "python3"
  },
  "language_info": {
   "codemirror_mode": {
    "name": "ipython",
    "version": 3
   },
   "file_extension": ".py",
   "mimetype": "text/x-python",
   "name": "python",
   "nbconvert_exporter": "python",
   "pygments_lexer": "ipython3",
   "version": "3.8.3"
  }
 },
 "nbformat": 4,
 "nbformat_minor": 4
}

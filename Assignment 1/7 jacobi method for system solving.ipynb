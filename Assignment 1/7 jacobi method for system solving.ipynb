{
 "cells": [
  {
   "cell_type": "code",
   "execution_count": 8,
   "metadata": {},
   "outputs": [
    {
     "name": "stdout",
     "output_type": "stream",
     "text": [
      "Iteration 1: [0.33333333 0.         0.57142857]\n",
      "Iteration 2: [ 0.14285714 -0.35714286  0.42857143]\n",
      "Final solution to A1x = b1: [ 0.14285714 -0.35714286  0.42857143]\n",
      "\n",
      "Iteration 1: [0.9 0.7 0.6]\n",
      "Iteration 2: [0.97 0.91 0.74]\n",
      "Solution to A2x = b2: [0.97 0.91 0.74]\n",
      "\n",
      "Iteration 1: [ 0.6    2.5   -1.375 -2.2  ]\n",
      "Iteration 2: [-0.65   1.65  -0.4   -2.475]\n",
      "Solution to A3x = b3: [-0.65   1.65  -0.4   -2.475]\n",
      "\n",
      "Iteration 1: [ 1.5 -2.   1.2  1.5  1.5]\n",
      "Iteration 2: [ 1.325 -1.6    1.6    1.675  2.425]\n",
      "Solution to A4x = b4: [ 1.325 -1.6    1.6    1.675  2.425]\n",
      "\n"
     ]
    }
   ],
   "source": [
    "import numpy as np\n",
    "\n",
    "def jacobi(A, b, max_iterations=2, tol=1e-6):\n",
    "    n = len(A)\n",
    "    x = np.zeros(n)\n",
    "    x_new = np.zeros(n)\n",
    "    for iteration in range(1, max_iterations + 1):\n",
    "        for i in range(n):\n",
    "            x_new[i] = (b[i] - np.dot(A[i, :i], x[:i]) - np.dot(A[i, i+1:], x[i+1:])) / A[i, i]\n",
    "        if np.linalg.norm(x_new - x) < tol:\n",
    "            break\n",
    "        x = np.copy(x_new)\n",
    "        print(f\"Iteration {iteration}: {x}\")\n",
    "    return x\n",
    "\n",
    "# Define the matrices A and vectors b\n",
    "A1 = np.array([[3, -1, 1], [3, 6, 2], [3, 3, 7]])\n",
    "b1 = np.array([1, 0, 4])\n",
    "\n",
    "# Solve the system using the Jacobi method and print the improved solution after each iteration\n",
    "x1 = jacobi(A1, b1)\n",
    "print(\"Final solution to A1x = b1:\", x1)\n",
    "print()\n",
    "\n",
    "A2 = np.array([[10, -1, 0], [-1, 10, -2], [0, -2, 10]])\n",
    "b2 = np.array([9, 7, 6])\n",
    "x2 = jacobi(A2, b2)\n",
    "print(\"Solution to A2x = b2:\", x2)\n",
    "print()\n",
    "\n",
    "A3 = np.array([[10, 5, 0, 0], [5, 10, -4, 0], [0, -4, 8, -1], [0, 0, -1, 5]])\n",
    "b3 = np.array([6, 25, -11, -11])\n",
    "x3 = jacobi(A3, b3)\n",
    "print(\"Solution to A3x = b3:\", x3)\n",
    "print()\n",
    "\n",
    "A4 = np.array([[4, 1, 1, 0, 1], [-1, -3, 1, 1, 0], [2, 1, 5, -1, -1], [-1, -1, -1, 4, 0], [0, 2, -1, 1, 4]])\n",
    "b4 = np.array([6, 6, 6, 6, 6])\n",
    "x4 = jacobi(A4, b4)\n",
    "print(\"Solution to A4x = b4:\", x4)\n",
    "print()\n",
    "\n"
   ]
  },
  {
   "cell_type": "code",
   "execution_count": null,
   "metadata": {},
   "outputs": [],
   "source": []
  }
 ],
 "metadata": {
  "kernelspec": {
   "display_name": "Python 3",
   "language": "python",
   "name": "python3"
  },
  "language_info": {
   "codemirror_mode": {
    "name": "ipython",
    "version": 3
   },
   "file_extension": ".py",
   "mimetype": "text/x-python",
   "name": "python",
   "nbconvert_exporter": "python",
   "pygments_lexer": "ipython3",
   "version": "3.8.3"
  }
 },
 "nbformat": 4,
 "nbformat_minor": 4
}

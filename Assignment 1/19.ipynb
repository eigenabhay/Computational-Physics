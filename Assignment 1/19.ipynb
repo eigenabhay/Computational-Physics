{
 "cells": [
  {
   "cell_type": "markdown",
   "metadata": {},
   "source": [
    "19) The SVD and the time taken to compute, as well as the reconstructed matrices to demonstrate correctness are all given below."
   ]
  },
  {
   "cell_type": "code",
   "execution_count": 3,
   "metadata": {},
   "outputs": [],
   "source": [
    "import numpy as np\n",
    "import time\n",
    "\n",
    "# Define the matrices\n",
    "A1 = np.array([[2, 1],\n",
    "               [1, 0]])\n",
    "\n",
    "A2 = np.array([[2, 1],\n",
    "               [1, 0],\n",
    "               [0, 1]])\n",
    "\n",
    "A3 = np.array([[2, 1],\n",
    "               [-1, 1],\n",
    "               [1, 1],\n",
    "               [2, -1]])\n",
    "\n",
    "A4 = np.array([[1, 1, 0],\n",
    "               [-1, 0, 1],\n",
    "               [0, 1, -1],\n",
    "               [1, 1, -1]])\n",
    "\n",
    "\n",
    "A5 = np.array([[0, 1, 1],\n",
    "               [0, 1, 0],\n",
    "               [1, 1, 0],\n",
    "               [0, 1, 0],\n",
    "               [1, 0, 1]])"
   ]
  },
  {
   "cell_type": "code",
   "execution_count": 5,
   "metadata": {},
   "outputs": [
    {
     "name": "stdout",
     "output_type": "stream",
     "text": [
      "SVD for Matrix A1:\n",
      "U:\n",
      "[[-0.92387953 -0.38268343]\n",
      " [-0.38268343  0.92387953]]\n",
      "Singular values:\n",
      "[2.41421356 0.41421356]\n",
      "VT:\n",
      "[[-0.92387953 -0.38268343]\n",
      " [ 0.38268343 -0.92387953]]\n",
      "Time taken: 0.000000 seconds\n",
      "\n"
     ]
    }
   ],
   "source": [
    "# Compute the SVD for each matrix\n",
    "\n",
    "start_time = time.time()\n",
    "U, S, VT = np.linalg.svd(A1)\n",
    "end_time = time.time()\n",
    "elapsed_time = end_time - start_time\n",
    "print(f\"SVD for Matrix A1:\")\n",
    "print(\"U:\")\n",
    "print(U)\n",
    "print(\"Singular values:\")\n",
    "print(S)\n",
    "print(\"VT:\")\n",
    "print(VT)\n",
    "print(f\"Time taken: {elapsed_time:.6f} seconds\")\n",
    "print()"
   ]
  },
  {
   "cell_type": "code",
   "execution_count": 6,
   "metadata": {},
   "outputs": [
    {
     "name": "stdout",
     "output_type": "stream",
     "text": [
      "SVD for Matrix A2:\n",
      "U:\n",
      "[[-9.12870929e-01  5.55111512e-17 -4.08248290e-01]\n",
      " [-3.65148372e-01 -4.47213595e-01  8.16496581e-01]\n",
      " [-1.82574186e-01  8.94427191e-01  4.08248290e-01]]\n",
      "Singular values:\n",
      "[2.44948974 1.        ]\n",
      "VT:\n",
      "[[-0.89442719 -0.4472136 ]\n",
      " [-0.4472136   0.89442719]]\n",
      "Time taken: 0.000000 seconds\n",
      "\n"
     ]
    }
   ],
   "source": [
    "# Compute the SVD for each matrix\n",
    "\n",
    "start_time = time.time()\n",
    "U, S, VT = np.linalg.svd(A2)\n",
    "end_time = time.time()\n",
    "elapsed_time = end_time - start_time\n",
    "print(f\"SVD for Matrix A2:\")\n",
    "print(\"U:\")\n",
    "print(U)\n",
    "print(\"Singular values:\")\n",
    "print(S)\n",
    "print(\"VT:\")\n",
    "print(VT)\n",
    "print(f\"Time taken: {elapsed_time:.6f} seconds\")\n",
    "print()"
   ]
  },
  {
   "cell_type": "code",
   "execution_count": 7,
   "metadata": {},
   "outputs": [
    {
     "name": "stdout",
     "output_type": "stream",
     "text": [
      "SVD for Matrix A3:\n",
      "U:\n",
      "[[-0.63245553 -0.5        -0.52229321 -0.27786652]\n",
      " [ 0.31622777 -0.5        -0.30196857  0.74753928]\n",
      " [-0.31622777 -0.5         0.79704714  0.12130893]\n",
      " [-0.63245553  0.5        -0.02721464  0.59098169]]\n",
      "Singular values:\n",
      "[3.16227766 2.        ]\n",
      "VT:\n",
      "[[-1. -0.]\n",
      " [-0. -1.]]\n",
      "Time taken: 0.000000 seconds\n",
      "\n"
     ]
    }
   ],
   "source": [
    "start_time = time.time()\n",
    "U, S, VT = np.linalg.svd(A3)\n",
    "end_time = time.time()\n",
    "elapsed_time = end_time - start_time\n",
    "print(f\"SVD for Matrix A3:\")\n",
    "print(\"U:\")\n",
    "print(U)\n",
    "print(\"Singular values:\")\n",
    "print(S)\n",
    "print(\"VT:\")\n",
    "print(VT)\n",
    "print(f\"Time taken: {elapsed_time:.6f} seconds\")\n",
    "print()"
   ]
  },
  {
   "cell_type": "code",
   "execution_count": 9,
   "metadata": {},
   "outputs": [
    {
     "name": "stdout",
     "output_type": "stream",
     "text": [
      "SVD for Matrix A4:\n",
      "U:\n",
      "[[-4.36435780e-01 -4.08248290e-01  7.07106781e-01 -3.77964473e-01]\n",
      " [ 4.36435780e-01  4.08248290e-01  7.07106781e-01  3.77964473e-01]\n",
      " [-4.36435780e-01  8.16496581e-01 -1.77001982e-16 -3.77964473e-01]\n",
      " [-6.54653671e-01 -7.49205180e-17 -1.19230075e-16  7.55928946e-01]]\n",
      "Singular values:\n",
      "[2.64575131 1.         1.        ]\n",
      "VT:\n",
      "[[-0.57735027 -0.57735027  0.57735027]\n",
      " [-0.81649658  0.40824829 -0.40824829]\n",
      " [ 0.          0.70710678  0.70710678]]\n",
      "Time taken: 0.000000 seconds\n",
      "\n"
     ]
    }
   ],
   "source": [
    "start_time = time.time()\n",
    "U, S, VT = np.linalg.svd(A4)\n",
    "end_time = time.time()\n",
    "elapsed_time = end_time - start_time\n",
    "print(f\"SVD for Matrix A4:\")\n",
    "print(\"U:\")\n",
    "print(U)\n",
    "print(\"Singular values:\")\n",
    "print(S)\n",
    "print(\"VT:\")\n",
    "print(VT)\n",
    "print(f\"Time taken: {elapsed_time:.6f} seconds\")\n",
    "print()"
   ]
  },
  {
   "cell_type": "code",
   "execution_count": 11,
   "metadata": {},
   "outputs": [
    {
     "name": "stdout",
     "output_type": "stream",
     "text": [
      "SVD for Matrix A5:\n",
      "U:\n",
      "[[-5.47722558e-01 -5.49521713e-16 -7.07106781e-01 -1.32058463e-01\n",
      "  -4.27271064e-01]\n",
      " [-3.65148372e-01 -4.08248290e-01  5.43210215e-17 -5.43516408e-01\n",
      "   6.36073827e-01]\n",
      " [-5.47722558e-01  4.24980527e-16  7.07106781e-01 -1.32058463e-01\n",
      "  -4.27271064e-01]\n",
      " [-3.65148372e-01 -4.08248290e-01  4.25921501e-17  8.07633333e-01\n",
      "   2.18468301e-01]\n",
      " [-3.65148372e-01  8.16496581e-01 -5.15968331e-16  1.32058463e-01\n",
      "   4.27271064e-01]]\n",
      "Singular values:\n",
      "[2.23606798 1.41421356 1.        ]\n",
      "VT:\n",
      "[[-4.08248290e-01 -8.16496581e-01 -4.08248290e-01]\n",
      " [ 5.77350269e-01 -5.77350269e-01  5.77350269e-01]\n",
      " [ 7.07106781e-01  3.86299829e-17 -7.07106781e-01]]\n",
      "Time taken: 0.000000 seconds\n",
      "\n"
     ]
    }
   ],
   "source": [
    "start_time = time.time()\n",
    "U, S, VT = np.linalg.svd(A5)\n",
    "end_time = time.time()\n",
    "elapsed_time = end_time - start_time\n",
    "print(f\"SVD for Matrix A5:\")\n",
    "print(\"U:\")\n",
    "print(U)\n",
    "print(\"Singular values:\")\n",
    "print(S)\n",
    "print(\"VT:\")\n",
    "print(VT)\n",
    "print(f\"Time taken: {elapsed_time:.6f} seconds\")\n",
    "print()"
   ]
  },
  {
   "cell_type": "code",
   "execution_count": 19,
   "metadata": {},
   "outputs": [
    {
     "name": "stdout",
     "output_type": "stream",
     "text": [
      "Original Matrix A1:\n",
      "[[2 1]\n",
      " [1 0]\n",
      " [0 1]]\n",
      "Reconstructed Matrix A1:\n",
      "[[ 2.00000000e+00  1.00000000e+00]\n",
      " [ 1.00000000e+00  0.00000000e+00]\n",
      " [-1.66533454e-16  1.00000000e+00]]\n",
      "\n",
      "Original Matrix A2:\n",
      "[[ 2  1]\n",
      " [-1  1]\n",
      " [ 1  1]\n",
      " [ 2 -1]]\n",
      "Reconstructed Matrix A2:\n",
      "[[ 2.  1.]\n",
      " [-1.  1.]\n",
      " [ 1.  1.]\n",
      " [ 2. -1.]]\n",
      "\n",
      "Original Matrix A3:\n",
      "[[ 1  1  0]\n",
      " [-1  0  1]\n",
      " [ 0  1 -1]\n",
      " [ 1  1 -1]]\n",
      "Reconstructed Matrix A3:\n",
      "[[ 1.00000000e+00  1.00000000e+00  2.23711432e-17]\n",
      " [-1.00000000e+00 -3.10695764e-16  1.00000000e+00]\n",
      " [ 1.11022302e-16  1.00000000e+00 -1.00000000e+00]\n",
      " [ 1.00000000e+00  1.00000000e+00 -1.00000000e+00]]\n",
      "\n",
      "Original Matrix A4:\n",
      "[[ 1  1  0]\n",
      " [-1  0  1]\n",
      " [ 0  1 -1]\n",
      " [ 1  1 -1]\n",
      " [ 0  1  1]]\n",
      "Reconstructed Matrix A4:\n",
      "[[ 1.00000000e+00  1.00000000e+00  2.37095017e-16]\n",
      " [-1.00000000e+00 -5.29365856e-17  1.00000000e+00]\n",
      " [ 1.82215928e-16  1.00000000e+00 -1.00000000e+00]\n",
      " [ 1.00000000e+00  1.00000000e+00 -1.00000000e+00]\n",
      " [-3.39236419e-17  1.00000000e+00  1.00000000e+00]]\n",
      "\n",
      "Original Matrix A5:\n",
      "[[0 1 1]\n",
      " [0 1 0]\n",
      " [1 1 0]\n",
      " [0 1 0]\n",
      " [1 0 1]]\n",
      "Reconstructed Matrix A5:\n",
      "[[-3.32444579e-16  1.00000000e+00  1.00000000e+00]\n",
      " [-1.83633842e-16  1.00000000e+00 -9.39219139e-17]\n",
      " [ 1.00000000e+00  1.00000000e+00 -3.03871955e-16]\n",
      " [-1.91927407e-16  1.00000000e+00 -8.56283494e-17]\n",
      " [ 1.00000000e+00 -3.33066907e-16  1.00000000e+00]]\n",
      "\n"
     ]
    }
   ],
   "source": [
    "matrices = [A1, A2, A3, A4, A5]\n",
    "\n",
    "# Compute the SVD for each matrix and demonstrate correctness\n",
    "for i, A in enumerate(matrices, start=1):\n",
    "    U, S, VT = np.linalg.svd(A)\n",
    "\n",
    "    # Reconstruct the original matrix\n",
    "    A_reconstructed = np.dot(U[:, :len(S)], np.dot(np.diag(S), VT))\n",
    "\n",
    "    print(f\"Original Matrix A{i}:\")\n",
    "    print(A)\n",
    "    print(f\"Reconstructed Matrix A{i}:\")\n",
    "    print(A_reconstructed)\n",
    "    print()\n"
   ]
  },
  {
   "cell_type": "code",
   "execution_count": null,
   "metadata": {},
   "outputs": [],
   "source": []
  },
  {
   "cell_type": "code",
   "execution_count": null,
   "metadata": {},
   "outputs": [],
   "source": []
  }
 ],
 "metadata": {
  "kernelspec": {
   "display_name": "Python 3",
   "language": "python",
   "name": "python3"
  },
  "language_info": {
   "codemirror_mode": {
    "name": "ipython",
    "version": 3
   },
   "file_extension": ".py",
   "mimetype": "text/x-python",
   "name": "python",
   "nbconvert_exporter": "python",
   "pygments_lexer": "ipython3",
   "version": "3.8.3"
  }
 },
 "nbformat": 4,
 "nbformat_minor": 4
}

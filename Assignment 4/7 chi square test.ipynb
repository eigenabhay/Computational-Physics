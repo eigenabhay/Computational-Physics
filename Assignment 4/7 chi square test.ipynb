{
 "cells": [
  {
   "cell_type": "code",
   "execution_count": 2,
   "metadata": {},
   "outputs": [
    {
     "name": "stdout",
     "output_type": "stream",
     "text": [
      "Chi-square statistic for run 1: 41.03, p-value: 0.0000, Interpretation: not sufficiently random\n",
      "Chi-square statistic for run 2: 1.14, p-value: 0.9997, Interpretation: sufficiently random\n"
     ]
    }
   ],
   "source": [
    "import numpy as np\n",
    "from scipy.stats import chi2\n",
    "\n",
    "# Observed counts for two runs\n",
    "observed_counts_1 = np.array([1, 4, 10, 10, 13, 20, 18, 18, 11, 13, 14])\n",
    "observed_counts_2 = np.array([3, 7, 11, 15, 19, 24, 21, 17, 13, 9, 5])\n",
    "\n",
    "# Total number of observations\n",
    "n_1 = np.sum(observed_counts_1)\n",
    "n_2 = np.sum(observed_counts_2)\n",
    "\n",
    "# Probabilities for sums from 2 to 12\n",
    "probabilities = np.array([1, 2, 3, 4, 5, 6, 5, 4, 3, 2, 1]) / 36\n",
    "\n",
    "# Expected counts for each sum\n",
    "expected_counts_1 = n_1 * probabilities\n",
    "expected_counts_2 = n_2 * probabilities\n",
    "\n",
    "# Chi-square statistic for both runs\n",
    "chi_square_stat_1 = np.sum((observed_counts_1 - expected_counts_1) ** 2 / expected_counts_1)\n",
    "chi_square_stat_2 = np.sum((observed_counts_2 - expected_counts_2) ** 2 / expected_counts_2)\n",
    "\n",
    "# Degrees of freedom (number of categories - 1)\n",
    "df = len(probabilities) - 1\n",
    "\n",
    "# p-values\n",
    "p_value_1 = chi2.sf(chi_square_stat_1, df)\n",
    "p_value_2 = chi2.sf(chi_square_stat_2, df)\n",
    "\n",
    "# Interpretation based on p-value\n",
    "def interpret_p_value(p_value):\n",
    "    if p_value < 0.01:\n",
    "        return \"not sufficiently random\"\n",
    "    elif p_value < 0.05:\n",
    "        return \"suspect\"\n",
    "    elif p_value < 0.1:\n",
    "        return \"almost suspect\"\n",
    "    else:\n",
    "        return \"sufficiently random\"\n",
    "\n",
    "# Interpretations for both runs\n",
    "interpretation_1 = interpret_p_value(p_value_1)\n",
    "interpretation_2 = interpret_p_value(p_value_2)\n",
    "\n",
    "# Results\n",
    "print(f\"Chi-square statistic for run 1: {chi_square_stat_1:.2f}, p-value: {p_value_1:.4f}, Interpretation: {interpretation_1}\")\n",
    "print(f\"Chi-square statistic for run 2: {chi_square_stat_2:.2f}, p-value: {p_value_2:.4f}, Interpretation: {interpretation_2}\")"
   ]
  },
  {
   "cell_type": "code",
   "execution_count": null,
   "metadata": {},
   "outputs": [],
   "source": []
  }
 ],
 "metadata": {
  "kernelspec": {
   "display_name": "Python 3",
   "language": "python",
   "name": "python3"
  },
  "language_info": {
   "codemirror_mode": {
    "name": "ipython",
    "version": 3
   },
   "file_extension": ".py",
   "mimetype": "text/x-python",
   "name": "python",
   "nbconvert_exporter": "python",
   "pygments_lexer": "ipython3",
   "version": "3.8.3"
  }
 },
 "nbformat": 4,
 "nbformat_minor": 4
}

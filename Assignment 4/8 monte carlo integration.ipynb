{
 "cells": [
  {
   "cell_type": "code",
   "execution_count": 3,
   "metadata": {},
   "outputs": [
    {
     "name": "stdout",
     "output_type": "stream",
     "text": [
      "Estimated area of the unit circle: 3.143076\n"
     ]
    }
   ],
   "source": [
    "import numpy as np\n",
    "\n",
    "# Define the number of random points\n",
    "N = 1000000\n",
    "\n",
    "# Generate random points in the square [-1, 1] x [-1, 1]\n",
    "x = np.random.uniform(-1, 1, N)\n",
    "y = np.random.uniform(-1, 1, N)\n",
    "\n",
    "# Count the number of points inside the unit circle\n",
    "inside_circle = x**2 + y**2 <= 1\n",
    "\n",
    "# Estimate the area of the circle\n",
    "area_estimate = 4 * np.sum(inside_circle) / N\n",
    "\n",
    "print(f\"Estimated area of the unit circle: {area_estimate}\")\n"
   ]
  },
  {
   "cell_type": "code",
   "execution_count": 4,
   "metadata": {},
   "outputs": [
    {
     "name": "stdout",
     "output_type": "stream",
     "text": [
      "Estimated volume of the 10-dimensional unit sphere: 2.543616\n"
     ]
    }
   ],
   "source": [
    "import numpy as np\n",
    "\n",
    "# Define the number of random points\n",
    "N = 1000000\n",
    "\n",
    "# Generate random points in the hypercube [-1, 1]^10\n",
    "points = np.random.uniform(-1, 1, (N, 10))\n",
    "\n",
    "# Count the number of points inside the 10-dimensional unit sphere\n",
    "inside_sphere = np.sum(points**2, axis=1) <= 1\n",
    "\n",
    "# Estimate the volume of the 10-dimensional unit sphere\n",
    "volume_estimate = 2**10 * np.sum(inside_sphere) / N\n",
    "\n",
    "print(f\"Estimated volume of the 10-dimensional unit sphere: {volume_estimate}\")\n"
   ]
  },
  {
   "cell_type": "code",
   "execution_count": null,
   "metadata": {},
   "outputs": [],
   "source": []
  }
 ],
 "metadata": {
  "kernelspec": {
   "display_name": "Python 3",
   "language": "python",
   "name": "python3"
  },
  "language_info": {
   "codemirror_mode": {
    "name": "ipython",
    "version": 3
   },
   "file_extension": ".py",
   "mimetype": "text/x-python",
   "name": "python",
   "nbconvert_exporter": "python",
   "pygments_lexer": "ipython3",
   "version": "3.8.3"
  }
 },
 "nbformat": 4,
 "nbformat_minor": 4
}
